{
 "cells": [
  {
   "cell_type": "markdown",
   "metadata": {},
   "source": [
    "# Demonstrate PV Access\n",
    "\n",
    "- What is PVA?\n",
    "- View area detector images with `c2dataviewer`\n",
    "- Python code to receive and process PVA data\n",
    "- (stretch goal) PVA for diffractometer orientation"
   ]
  },
  {
   "cell_type": "markdown",
   "metadata": {},
   "source": [
    "## What is PVA?\n",
    "\n",
    "From the [EPICS Documentation](https://docs.epics-controls.org/en/latest/pv-access/OverviewOfpvData.html):\n",
    "\n",
    "> pvAccess, pvData and other related modules have been introduced into EPICS to add support for structured data.\n",
    "\n",
    "The [EPICS web site](https://epics-controls.org/resources-and-support/documents/pvaccess/) says:\n",
    "\n",
    "> The most prominent new feature of EPICS 7 (and beyond) is the addition of the possibility to manipulate and transport structured data over the network. The data manipulation library is called pvData and the network protocol is called pvAccess.\n",
    "\n",
    "PVA differs from the well-known Channel Access protocol by providing multiple pieces of information in a defined structure.  In Channel Access (CA), those same multiple pieces of information would be provided by separate (CA) PVs.  Area detector images are a great example.  With PVA, the entire image, its shape, bit depth, color mode, attributes, etc. are communicated in a single PV."
   ]
  },
  {
   "cell_type": "markdown",
   "metadata": {},
   "source": [
    "## View PVA images\n",
    "\n",
    "To view images published as PVA PVs, we'll need:\n",
    "\n",
    "- software to monitor the PVA PV and view the images\n",
    "- a PVA PV that is the source of the images to be viewed"
   ]
  },
  {
   "cell_type": "markdown",
   "metadata": {},
   "source": [
    "### Viewer\n",
    "\n",
    "The [`c2dataviewer` (`c2dv`)](https://pypi.org/project/c2dataviewer/) was developed for the APS accelerator as part of the APS-U.  It has several modules, one of which is to view images from EPICS area detectors where the image is published as a PV Access PV.  Note that `c2dv` is Python software."
   ]
  },
  {
   "cell_type": "markdown",
   "metadata": {},
   "source": [
    "The `c2dv` Python software is installed into its own conda environment, to isolate its version requirements.  That environment was created with these commands:\n",
    "\n",
    "```bash\n",
    "conda create -n c2dv -c epics -c conda-forge blosc pvapy\n",
    "conda activate c2dv\n",
    "pip install c2dataviewer\n",
    "```"
   ]
  },
  {
   "cell_type": "markdown",
   "metadata": {},
   "source": [
    "A bash shell script runner (`c2dv_image.sh`) makes it easier to remember how to start `c2dv`:\n",
    "\n",
    "```bash\n",
    "#!/bin/bash\n",
    "\n",
    "if [ \"${#}\" != \"1\" ]; then\n",
    "    echo \"usage:  ${0} PVA_PV\"\n",
    "else\n",
    "    source $(which activate) c2dv\n",
    "    c2dv --app image --pv \"${1}\" &\n",
    "fi\n",
    "```"
   ]
  },
  {
   "cell_type": "markdown",
   "metadata": {},
   "source": [
    "### Area Detector EPICS IOC\n",
    "\n",
    "Next, we need an area detector IOC.  This demo uses a simulated area detector (1k x 1k, 8bits/pixel, monochrome, prefix=`ad:`), ADSimDetector.  The demo uses the standard simulated image.   (`ad:` is the demo IOC's prefix, use your own here)"
   ]
  },
  {
   "cell_type": "markdown",
   "metadata": {},
   "source": [
    "### generate images\n",
    "\n",
    "1. Start generating (simulated) images from the detector. <br />  `caput ad:cam1:Acquire 1`\n",
    "1. Publish the images over PVA by enabling the detector's PVA plugin: <br />  `caput ad:Pva1:EnableCallbacks 1`\n",
    "1. Test that the expected image PVA is available: <br />  `pvinfo ad:Pva1:Image`\n",
    "1. Test that images are available by PVA: <br />  `pvget ad:Pva1:Image`  <br />  (This command will print the entire image as numbers.  Lots of output.  Then other information in the structure is printed.)"
   ]
  },
  {
   "cell_type": "code",
   "execution_count": 1,
   "metadata": {},
   "outputs": [
    {
     "name": "stdout",
     "output_type": "stream",
     "text": [
      "Old : ad:cam1:Acquire                Acquire\n",
      "New : ad:cam1:Acquire                Acquire\n"
     ]
    }
   ],
   "source": [
    "! caput ad:cam1:Acquire 1"
   ]
  },
  {
   "cell_type": "markdown",
   "metadata": {},
   "source": [
    "Publish the images over PVA by enabling the detector's PVA plugin:"
   ]
  },
  {
   "cell_type": "code",
   "execution_count": 2,
   "metadata": {},
   "outputs": [
    {
     "name": "stdout",
     "output_type": "stream",
     "text": [
      "Old : ad:Pva1:EnableCallbacks        Enable\n",
      "New : ad:Pva1:EnableCallbacks        Enable\n"
     ]
    }
   ],
   "source": [
    "! caput ad:Pva1:EnableCallbacks 1"
   ]
  },
  {
   "cell_type": "markdown",
   "metadata": {},
   "source": [
    "Test that the expected image PVA is available:"
   ]
  },
  {
   "cell_type": "code",
   "execution_count": 3,
   "metadata": {},
   "outputs": [
    {
     "name": "stdout",
     "output_type": "stream",
     "text": [
      "ad:Pva1:Image\n",
      "Server: 192.168.144.94:5075\n",
      "Type:\n",
      "    epics:nt/NTNDArray:1.0\n",
      "        union value\n",
      "            boolean[] booleanValue\n",
      "            byte[] byteValue\n",
      "            short[] shortValue\n",
      "            int[] intValue\n",
      "            long[] longValue\n",
      "            ubyte[] ubyteValue\n",
      "            ushort[] ushortValue\n",
      "            uint[] uintValue\n",
      "            ulong[] ulongValue\n",
      "            float[] floatValue\n",
      "            double[] doubleValue\n",
      "        codec_t codec\n",
      "            string name\n",
      "            any parameters\n",
      "        long compressedSize\n",
      "        long uncompressedSize\n",
      "        dimension_t[] dimension\n",
      "            dimension_t\n",
      "                int size\n",
      "                int offset\n",
      "                int fullSize\n",
      "                int binning\n",
      "                boolean reverse\n",
      "        int uniqueId\n",
      "        time_t dataTimeStamp\n",
      "            long secondsPastEpoch\n",
      "            int nanoseconds\n",
      "            int userTag\n",
      "        epics:nt/NTAttribute:1.0[] attribute\n",
      "            epics:nt/NTAttribute:1.0\n",
      "                string name\n",
      "                any value\n",
      "                string descriptor\n",
      "                int sourceType\n",
      "                string source\n",
      "        string descriptor\n",
      "        alarm_t alarm\n",
      "            int severity\n",
      "            int status\n",
      "            string message\n",
      "        time_t timeStamp\n",
      "            long secondsPastEpoch\n",
      "            int nanoseconds\n",
      "            int userTag\n",
      "        display_t display\n",
      "            double limitLow\n",
      "            double limitHigh\n",
      "            string description\n",
      "            string format\n",
      "            string units\n",
      "\n"
     ]
    }
   ],
   "source": [
    "! pvinfo ad:Pva1:Image"
   ]
  },
  {
   "cell_type": "markdown",
   "metadata": {},
   "source": [
    "Test that images are available by PVA.  (The `pvget` command will print the entire image as numbers.  Lots of output. We suppress that here with a pipe to `grep` to remove that `ubyte` content.)  The other information in the structure is printed."
   ]
  },
  {
   "cell_type": "code",
   "execution_count": 4,
   "metadata": {},
   "outputs": [
    {
     "name": "stdout",
     "output_type": "stream",
     "text": [
      "ad:Pva1:Image epics:nt/NTNDArray:1.0 \n",
      "    union value\n",
      "    codec_t codec\n",
      "        string name \n",
      "        any parameters\n",
      "            int  5\n",
      "    long compressedSize 1048576\n",
      "    long uncompressedSize 1048576\n",
      "    dimension_t[] dimension\n",
      "        dimension_t \n",
      "            int size 1024\n",
      "            int offset 0\n",
      "            int fullSize 1024\n",
      "            int binning 1\n",
      "            boolean reverse false\n",
      "        dimension_t \n",
      "            int size 1024\n",
      "            int offset 0\n",
      "            int fullSize 1024\n",
      "            int binning 1\n",
      "            boolean reverse false\n",
      "    int uniqueId 1362424\n",
      "    time_t dataTimeStamp 2023-10-12 16:52:55.236  \n",
      "        long secondsPastEpoch 1697147575\n",
      "        int nanoseconds 235581159\n",
      "        int userTag 0\n",
      "    epics:nt/NTAttribute:1.0[] attribute\n",
      "        epics:nt/NTAttribute:1.0 \n",
      "            string name ColorMode\n",
      "            any value\n",
      "                int  0\n",
      "            string descriptor \"Color mode\"\n",
      "            int sourceType 0\n",
      "            string source Driver\n",
      "    string descriptor \n",
      "    alarm_t alarm \n",
      "        int severity 0\n",
      "        int status 0\n",
      "        string message \n",
      "    time_t timeStamp 2023-10-12 16:52:55.237  \n",
      "        long secondsPastEpoch 1697147575\n",
      "        int nanoseconds 236671952\n",
      "        int userTag 0\n",
      "    display_t display\n",
      "        double limitLow 0\n",
      "        double limitHigh 0\n",
      "        string description \n",
      "        string format \n",
      "        string units \n"
     ]
    }
   ],
   "source": [
    "! pvget ad:Pva1:Image | grep -v ubyte"
   ]
  },
  {
   "cell_type": "markdown",
   "metadata": {},
   "source": [
    "### view images\n",
    "\n",
    "1. Then, start the viewer:  <br />  `c2dv_image.sh ad:Pva1:Image`\n",
    "1. Auto-scale the image so that the full 8-bit range of each pixel value is shown."
   ]
  },
  {
   "cell_type": "markdown",
   "metadata": {},
   "source": [
    "## Python code to read this PVA\n",
    "\n",
    "Demonstrate how to read the area detector image in Python using [`pvapy`](https://pypi.org/project/pvapy/).  This demo uses the same PVA PV as above: `ad:Pva1:Image`.\n",
    "\n",
    "NOTE: For richer examples, use [`pva_examiner`](https://github.com/BCDA-APS/bdp_controls/blob/main/examples/pva_examiner.py)."
   ]
  },
  {
   "cell_type": "code",
   "execution_count": 5,
   "metadata": {},
   "outputs": [],
   "source": [
    "import datetime\n",
    "import time\n",
    "\n",
    "import pvaccess\n",
    "\n",
    "PVA_PV = \"ad:Pva1:Image\"\n",
    "PROTOCOL = pvaccess.PVA"
   ]
  },
  {
   "cell_type": "markdown",
   "metadata": {},
   "source": [
    "Connect with PV using PVA protocol."
   ]
  },
  {
   "cell_type": "code",
   "execution_count": 6,
   "metadata": {},
   "outputs": [],
   "source": [
    "channel = pvaccess.Channel(PVA_PV, PROTOCOL)"
   ]
  },
  {
   "cell_type": "markdown",
   "metadata": {},
   "source": [
    "Start monitoring for values _after_ connecting.  Add a short delay (empirical) for the connection period."
   ]
  },
  {
   "cell_type": "code",
   "execution_count": 7,
   "metadata": {},
   "outputs": [
    {
     "name": "stdout",
     "output_type": "stream",
     "text": [
      "PVA channel.getName()='ad:Pva1:Image'  channel.isConnected() = True\n"
     ]
    }
   ],
   "source": [
    "channel.startMonitor()\n",
    "time.sleep(0.1)\n",
    "print(f\"{PROTOCOL} {channel.getName()=}  {channel.isConnected() = }\")"
   ]
  },
  {
   "cell_type": "markdown",
   "metadata": {},
   "source": [
    "Get the latest image data from the `channel`.  Then, stop expecting any further PVA monitors."
   ]
  },
  {
   "cell_type": "code",
   "execution_count": 8,
   "metadata": {},
   "outputs": [
    {
     "name": "stdout",
     "output_type": "stream",
     "text": [
      "pv_object=<pvaccess.pvaccess.PvObject object at 0x7f602e3728f0>\n"
     ]
    }
   ],
   "source": [
    "pv_object = channel.get()\n",
    "print(f\"{pv_object=}\")\n",
    "channel.stopMonitor()"
   ]
  },
  {
   "cell_type": "markdown",
   "metadata": {},
   "source": [
    "Add a couple support functions from the [`pva_examiner`](https://github.com/BCDA-APS/bdp_controls/blob/main/examples/pva_examiner.py) online example code.  These functions:\n",
    "\n",
    "- read any attributes of the PVA PV as a Python dictionary\n",
    "- read the image payload, if it is found (assumes uint8 data, for this example)"
   ]
  },
  {
   "cell_type": "code",
   "execution_count": 9,
   "metadata": {},
   "outputs": [],
   "source": [
    "# https://github.com/BCDA-APS/bdp_controls/blob/main/examples/pva_examiner.py\n",
    "\n",
    "def get_pva_ndattributes(pv_object):\n",
    "    \"\"\"Return a dict with the NDAttributes.\"\"\"\n",
    "    obj_dict = pv_object.get()\n",
    "    attributes = {\n",
    "        attr[\"name\"]: [v for v in attr.get(\"value\", \"\")]\n",
    "        for attr in obj_dict.get(\"attribute\", {})\n",
    "    }\n",
    "    for k in \"codec uniqueId uncompressedSize\".split():\n",
    "        if k in pv_object:\n",
    "            attributes[k] = pv_object[k]\n",
    "    return attributes\n",
    "\n",
    "def pva_to_image(pv_object):\n",
    "    \"\"\"Return the image from the PVA object.  Or ``None``.\"\"\"\n",
    "    if \"dimension\" in pv_object:\n",
    "        shape = [axis[\"size\"] for axis in pv_object[\"dimension\"]]\n",
    "        image = pv_object[\"value\"][0][\"ubyteValue\"].reshape(*shape)\n",
    "    else:\n",
    "        image = None\n",
    "    return image"
   ]
  },
  {
   "cell_type": "markdown",
   "metadata": {},
   "source": [
    "Get the timestamp of the image from EPICS (in the PVA PV).  It is possible to be provided by a couple different names."
   ]
  },
  {
   "cell_type": "code",
   "execution_count": 10,
   "metadata": {},
   "outputs": [
    {
     "name": "stdout",
     "output_type": "stream",
     "text": [
      "PVA: 'ad:Pva1:Image' at 2023-10-12 16:52:55.623944\n"
     ]
    }
   ],
   "source": [
    "dt = datetime.datetime.now()\n",
    "for key in \"dataTimeStamp timeStamp\".split():\n",
    "    if key in pv_object:\n",
    "        # \"PVA\"\n",
    "        timestamp = pv_object[key][\"secondsPastEpoch\"]\n",
    "        timestamp += pv_object[key][\"nanoseconds\"] * 1e-9\n",
    "        dt = datetime.datetime.fromtimestamp(timestamp)\n",
    "        break\n",
    "print(f\"{PROTOCOL}: '{PVA_PV}' at {dt}\")"
   ]
  },
  {
   "cell_type": "markdown",
   "metadata": {},
   "source": [
    "Show some basic information about this image frame:"
   ]
  },
  {
   "cell_type": "code",
   "execution_count": 11,
   "metadata": {},
   "outputs": [
    {
     "name": "stdout",
     "output_type": "stream",
     "text": [
      "image.shape=(1024, 1024)  image.dtype=dtype('uint8')  image.min()=6  image.max()=145\n"
     ]
    }
   ],
   "source": [
    "\n",
    "image = pva_to_image(pv_object)\n",
    "if image is not None:\n",
    "    print(\n",
    "        f\"{image.shape=}\"\n",
    "        f\"  {image.dtype=}\"\n",
    "        f\"  {image.min()=}\"\n",
    "        f\"  {image.max()=}\"\n",
    "    )\n"
   ]
  },
  {
   "cell_type": "markdown",
   "metadata": {},
   "source": [
    "Show the PVA's attributes, if any."
   ]
  },
  {
   "cell_type": "code",
   "execution_count": 12,
   "metadata": {},
   "outputs": [
    {
     "name": "stdout",
     "output_type": "stream",
     "text": [
      "#1  ColorMode\t[{'value': 0}, {'value': pvaccess.pvaccess.ScalarType.INT}]\n",
      "#2  codec\t{'name': '', 'parameters': ({'value': 5}, {'value': pvaccess.pvaccess.ScalarType.INT})}\n",
      "#3  uniqueId\t1362495\n",
      "#4  uncompressedSize\t1048576\n"
     ]
    }
   ],
   "source": [
    "\n",
    "attributes = get_pva_ndattributes(pv_object)\n",
    "\n",
    "# print by key:value\n",
    "for i, k in enumerate(attributes, start=1):\n",
    "    print(f\"#{i}  {k}\\t{attributes[k]}\")"
   ]
  },
  {
   "cell_type": "markdown",
   "metadata": {},
   "source": [
    "## PVA for diffractometer orientation\n",
    "\n",
    "When using a diffractometer to explore the scattering from a single crystal, important steps are necessary to orient a sample of that crystal and align it to the diffractometer.  These steps are recorded in memory of the control software.  Should that software stop for some reason, the orientation is lost and the steps must be repeated to recreate the orientation.\n",
    "\n",
    "It would be very useful to store the sample information and its orientation otuside of the control software so that it may be restored in such circumstances.  A PVA structure, with its dictionary of attributes is a good container for the necessary sample orientation details.\n",
    "\n",
    "For this demo, we'll need:\n",
    "\n",
    "- a PVA server\n",
    "- control software with an oriented sample\n",
    "- steps to write the orientation to the PVA"
   ]
  },
  {
   "cell_type": "markdown",
   "metadata": {},
   "source": [
    "### PVA server\n",
    "\n",
    "Python code using the [`pvaccess`\n",
    "package](https://epics.anl.gov/extensions/pvaPy/production/pvaccess.html)\n",
    "creates the PVA server in this demo.  We assign this name for the PVA:\n",
    "`demo:orientation`.  For simplicity, we design this PVA with a structure that is\n",
    "just a string called `\"samples\"` which will contain a [JSON](https://json.org)\n",
    "dictionary with sample and orientation details.\n",
    "\n",
    "NOTE:  We choose JSON to communicate this structure because it is *extendable*.\n",
    "For a given diffractometer, the number of samples is not always one, the number\n",
    "of reflections is not always two, and other details such as the number and names\n",
    "of the motors is not always the same.  A Python dictionary is a good description\n",
    "of these details.  [JSON is a data format in which to communicate a Python\n",
    "dictionary](https://stackoverflow.com/questions/33169404#33169622).\n",
    "\n",
    "In the real-world case, the server should be run independent from the control\n",
    "software.  Here, the server is run locally and we make up the example\n",
    "orientation details.\n",
    "\n",
    "First, create the PvObject locally.  It is *not published yet* as a PVA."
   ]
  },
  {
   "cell_type": "code",
   "execution_count": 13,
   "metadata": {},
   "outputs": [],
   "source": [
    "import pvaccess\n",
    "\n",
    "pv = pvaccess.PvObject({\"samples\": pvaccess.STRING})"
   ]
  },
  {
   "cell_type": "markdown",
   "metadata": {},
   "source": [
    "Assign the PV name as the PVA server is created, then start the server."
   ]
  },
  {
   "cell_type": "code",
   "execution_count": 14,
   "metadata": {},
   "outputs": [],
   "source": [
    "pvname = \"demo:orientation\"\n",
    "pva_server = pvaccess.PvaServer(pvname, pv)"
   ]
  },
  {
   "cell_type": "markdown",
   "metadata": {},
   "source": [
    "Test (with a bash command) that the server is running and the PVA has the expected structure."
   ]
  },
  {
   "cell_type": "code",
   "execution_count": 15,
   "metadata": {},
   "outputs": [
    {
     "name": "stdout",
     "output_type": "stream",
     "text": [
      "demo:orientation\n",
      "Server: 192.168.144.94:47451\n",
      "Type:\n",
      "    structure\n",
      "        string samples\n",
      "\n"
     ]
    }
   ],
   "source": [
    "! pvinfo demo:orientation"
   ]
  },
  {
   "cell_type": "markdown",
   "metadata": {},
   "source": [
    "We have not assigned any values, so the content is empty at first."
   ]
  },
  {
   "cell_type": "code",
   "execution_count": 16,
   "metadata": {},
   "outputs": [
    {
     "name": "stdout",
     "output_type": "stream",
     "text": [
      "demo:orientation structure \n",
      "    string samples \n"
     ]
    }
   ],
   "source": [
    "! pvget demo:orientation"
   ]
  },
  {
   "cell_type": "markdown",
   "metadata": {},
   "source": [
    "Write some JSON content to the PV, from the server."
   ]
  },
  {
   "cell_type": "code",
   "execution_count": 17,
   "metadata": {},
   "outputs": [],
   "source": [
    "import json\n",
    "\n",
    "pv[\"samples\"] = json.dumps({\"key1\": \"value1\"})"
   ]
  },
  {
   "cell_type": "markdown",
   "metadata": {},
   "source": [
    "Show that using a shell command:"
   ]
  },
  {
   "cell_type": "code",
   "execution_count": 18,
   "metadata": {},
   "outputs": [
    {
     "name": "stdout",
     "output_type": "stream",
     "text": [
      "demo:orientation structure \n",
      "    string samples \"{\\\"key1\\\": \\\"value1\\\"}\"\n"
     ]
    }
   ],
   "source": [
    "! pvget demo:orientation"
   ]
  },
  {
   "cell_type": "markdown",
   "metadata": {},
   "source": [
    "Simulate a diffractometer control system where a crystal of *vibranium* has been\n",
    "oriented. The details are provided in a dictionary of *samples* (in case more\n",
    "than one crystal has been oriented)."
   ]
  },
  {
   "cell_type": "code",
   "execution_count": 19,
   "metadata": {},
   "outputs": [],
   "source": [
    "samples = {\n",
    "    \"vibranium\": dict(\n",
    "        name=\"vibranium\", \n",
    "        lattice=(4.14, 4.14, 4.14, 90, 90, 90),\n",
    "        reflections=[\n",
    "            dict(hkl=(1, 0, 0), motors=(dict(th=30, tth=60, chi=0, phi=30)), wavelength=0.5),\n",
    "            dict(hkl=(0, 1, 0), motors=(dict(th=30, tth=60, chi=90, phi=30)), wavelength=0.5),\n",
    "        ],\n",
    "        # UB=[],\n",
    "    )\n",
    "}\n",
    "pv[\"samples\"] = json.dumps(samples)"
   ]
  },
  {
   "cell_type": "markdown",
   "metadata": {},
   "source": [
    "Look at the contents of that PVA, first on the command line, then in Python code."
   ]
  },
  {
   "cell_type": "code",
   "execution_count": 20,
   "metadata": {},
   "outputs": [
    {
     "name": "stdout",
     "output_type": "stream",
     "text": [
      "demo:orientation structure \n",
      "    string samples \"{\\\"vibranium\\\": {\\\"name\\\": \\\"vibranium\\\", \\\"lattice\\\": [4.14, 4.14, 4.14, 90, 90, 90], \\\"reflections\\\": [{\\\"hkl\\\": [1, 0, 0], \\\"motors\\\": {\\\"th\\\": 30, \\\"tth\\\": 60, \\\"chi\\\": 0, \\\"phi\\\": 30}, \\\"wavelength\\\": 0.5}, {\\\"hkl\\\": [0, 1, 0], \\\"motors\\\": {\\\"th\\\": 30, \\\"tth\\\": 60, \\\"chi\\\": 90, \\\"phi\\\": 30}, \\\"wavelength\\\": 0.5}]}}\"\n",
      "\n",
      "The PVA object in the server:\n",
      "pv=<pvaccess.pvaccess.PvObject object at 0x7f602d3157b0>\n",
      "\n",
      "The JSON content in the PVA object, note it's a string\n",
      "pv['samples']='{\"vibranium\": {\"name\": \"vibranium\", \"lattice\": [4.14, 4.14, 4.14, 90, 90, 90], \"reflections\": [{\"hkl\": [1, 0, 0], \"motors\": {\"th\": 30, \"tth\": 60, \"chi\": 0, \"phi\": 30}, \"wavelength\": 0.5}, {\"hkl\": [0, 1, 0], \"motors\": {\"th\": 30, \"tth\": 60, \"chi\": 90, \"phi\": 30}, \"wavelength\": 0.5}]}}'\n",
      "\n",
      "Interpret the JSON.  Note that original structure and data types are recovered.\n",
      "json.loads(pv['samples'])={'vibranium': {'name': 'vibranium', 'lattice': [4.14, 4.14, 4.14, 90, 90, 90], 'reflections': [{'hkl': [1, 0, 0], 'motors': {'th': 30, 'tth': 60, 'chi': 0, 'phi': 30}, 'wavelength': 0.5}, {'hkl': [0, 1, 0], 'motors': {'th': 30, 'tth': 60, 'chi': 90, 'phi': 30}, 'wavelength': 0.5}]}}\n",
      "\n",
      "For each sample, show how many reflections, for example.\n",
      "vibranium: 2 reflections\n"
     ]
    }
   ],
   "source": [
    "! pvget demo:orientation\n",
    "\n",
    "print(\"\\nThe PVA object in the server:\")\n",
    "print(f\"{pv=}\")\n",
    "\n",
    "print(\"\\nThe JSON content in the PVA object, note it's a string\")\n",
    "print(f\"{pv['samples']=}\")\n",
    "\n",
    "print(\"\\nInterpret the JSON.  Note that original structure and data types are recovered.\")\n",
    "print(f\"{json.loads(pv['samples'])=}\")\n",
    "\n",
    "print(\"\\nFor each sample, show how many reflections, for example.\")\n",
    "for k, details in json.loads(pv['samples']).items():\n",
    "    print(f\"{k}: {len(details['reflections'])} reflections\")"
   ]
  }
 ],
 "metadata": {
  "kernelspec": {
   "display_name": "c2dv",
   "language": "python",
   "name": "python3"
  },
  "language_info": {
   "codemirror_mode": {
    "name": "ipython",
    "version": 3
   },
   "file_extension": ".py",
   "mimetype": "text/x-python",
   "name": "python",
   "nbconvert_exporter": "python",
   "pygments_lexer": "ipython3",
   "version": "3.11.6"
  }
 },
 "nbformat": 4,
 "nbformat_minor": 2
}
